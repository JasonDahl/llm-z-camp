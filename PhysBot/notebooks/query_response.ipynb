{
 "cells": [
  {
   "cell_type": "code",
   "execution_count": 10,
   "id": "612379c9-9dad-460b-b6e2-2ad02ae53d1b",
   "metadata": {},
   "outputs": [
    {
     "name": "stdout",
     "output_type": "stream",
     "text": [
      "The autoreload extension is already loaded. To reload it, use:\n",
      "  %reload_ext autoreload\n"
     ]
    }
   ],
   "source": [
    "# Enable autoreload of imported modules\n",
    "%load_ext autoreload\n",
    "%autoreload 2\n",
    "\n",
    "from elasticsearch import Elasticsearch\n",
    "from openai import OpenAI\n",
    "from dotenv import load_dotenv\n",
    "from pathlib import Path\n",
    "import os\n",
    "import sys\n",
    "import re\n",
    "\n",
    "# Add parent of 'physbot' to the path\n",
    "sys.path.append(os.path.abspath(\"..\"))\n",
    "\n",
    "from physbot.path_utils import get_project_root"
   ]
  },
  {
   "cell_type": "code",
   "execution_count": 4,
   "id": "d1cb304f-be3b-4700-9d3d-b00512cd5838",
   "metadata": {},
   "outputs": [],
   "source": [
    "# Load environment variables from the project root\n",
    "# For Jupyter: assume this notebook is in /PhysBot/notebooks\n",
    "notebook_dir = Path.cwd()\n",
    "project_root = get_project_root()\n",
    "load_dotenv(dotenv_path=project_root / \".env\")\n",
    "\n",
    "OPENAI_API_KEY = os.getenv(\"OPENAI_API_KEY\")\n",
    "\n",
    "# Initialize clients\n",
    "es = Elasticsearch(\"http://localhost:9200\")\n",
    "openai_client = OpenAI(api_key=OPENAI_API_KEY)\n",
    "\n",
    "# Settings\n",
    "ES_INDEX = \"physbot_units\"\n",
    "EMBEDDING_MODEL = \"text-embedding-ada-002\"\n",
    "TOP_K = 5"
   ]
  },
  {
   "cell_type": "code",
   "execution_count": 16,
   "id": "11d7b282-9290-4622-a100-8a8f00449097",
   "metadata": {},
   "outputs": [],
   "source": [
    "def get_query_embedding(query: str):\n",
    "    \"\"\"Embed the user query using OpenAI.\"\"\"\n",
    "    response = openai_client.embeddings.create(\n",
    "        model=EMBEDDING_MODEL,\n",
    "        input=query\n",
    "    )\n",
    "    return response.data[0].embedding\n",
    "\n",
    "def semantic_search(query_embedding, top_k=TOP_K):\n",
    "    \"\"\"Use Elasticsearch to retrieve top-k similar chunks.\"\"\"\n",
    "    search_query = {\n",
    "        \"size\": top_k,\n",
    "        \"query\": {\n",
    "            \"script_score\": {\n",
    "                \"query\": {\"match_all\": {}},\n",
    "                \"script\": {\n",
    "                    \"source\": \"cosineSimilarity(params.query_vector, 'embedding') + 1.0\",\n",
    "                    \"params\": {\"query_vector\": query_embedding}\n",
    "                }\n",
    "            }\n",
    "        }\n",
    "    }\n",
    "    response = es.search(index=ES_INDEX, query=search_query[\"query\"])\n",
    "    return [hit[\"_source\"] for hit in response[\"hits\"][\"hits\"]]\n",
    "\n",
    "def assemble_prompt(chunks, question):\n",
    "    \"\"\"Construct an improved prompt using context and metadata.\"\"\"\n",
    "    context_blocks = []\n",
    "    for i, chunk in enumerate(chunks):\n",
    "        unit = chunk.get(\"unit\", \"Unknown\")\n",
    "        section = chunk.get(\"section\", \"Unknown\")\n",
    "        content = chunk[\"content\"]\n",
    "        context_blocks.append(f\"[Source {i+1}: Unit {unit}, Section {section}]\\n{content}\")\n",
    "    \n",
    "    context_text = \"\\n\\n\".join(context_blocks)\n",
    "\n",
    "    return f\"\"\"You are a physics tutor assistant.\n",
    "\n",
    "Using the context passages below, answer the following question.\n",
    "Cite sources in the form [Source 1], [Source 2], etc., based on which passage the information comes from.\n",
    "When including equations, use LaTeX formatting (e.g., `E=mc^2`) and preserve them inside backticks.\n",
    "\n",
    "Context:\n",
    "{context_text}\n",
    "\n",
    "Question: {question}\n",
    "Answer:\"\"\"\n",
    "\n",
    "def append_citation_details(answer_text, chunks):\n",
    "    \"\"\"\n",
    "    Replace [Source X] references in the answer with actual source info,\n",
    "    and append a readable reference block at the end.\n",
    "    \"\"\"\n",
    "    source_map = {}\n",
    "    for i, chunk in enumerate(chunks):\n",
    "        source_map[f\"Source {i+1}\"] = f\"Unit {chunk.get('unit', 'Unknown')} – {chunk.get('section', 'Unknown')}\"\n",
    "\n",
    "    # Append a references section\n",
    "    used_sources = sorted(set(re.findall(r\"\\[Source \\d+\\]\", answer_text)))\n",
    "    references = \"\\n\\n**References:**\\n\"\n",
    "    for src in used_sources:\n",
    "        ref = source_map.get(src.replace(\"[\", \"\").replace(\"]\", \"\"), \"Unknown source\")\n",
    "        references += f\"{src}: {ref}\\n\"\n",
    "\n",
    "    return answer_text + references\n",
    "\n",
    "def generate_rag_response(query: str):\n",
    "    \"\"\"Perform semantic search and return a response from OpenAI.\"\"\"\n",
    "    embedding = get_query_embedding(query)\n",
    "    top_chunks = semantic_search(embedding)\n",
    "    prompt = assemble_prompt(top_chunks, query)\n",
    "    \n",
    "    completion = openai_client.chat.completions.create(\n",
    "        model=\"gpt-4\",\n",
    "        messages=[{\"role\": \"user\", \"content\": prompt}],\n",
    "        temperature=0.3\n",
    "    )\n",
    "\n",
    "    response = completion.choices[0].message.content.strip()\n",
    "    \n",
    "    answer_with_citations = append_citation_details(response, top_chunks)\n",
    "    return answer_with_citations\n",
    "\n"
   ]
  },
  {
   "cell_type": "code",
   "execution_count": 19,
   "id": "1b6cb849-031a-4cd4-92a3-cff88cd08763",
   "metadata": {
    "scrolled": true
   },
   "outputs": [
    {
     "name": "stdout",
     "output_type": "stream",
     "text": [
      "This is a conservation of energy problem involving the elastic potential energy of the spring and the kinetic energy of the disk, both linear and rotational. Since there is no change in height of any of the objects in our system, gravitational potential energy can be ignored. Therefore, the conservation of energy can be written as `ΔE = ΔUs + ΔKl + ΔKr = 0` [Source 2].\n",
      "\n",
      "In the initial situation (compressed spring), there is no kinetic energy and in the final situation there is no elastic potential energy since the spring returns to its natural length. We can then write the conservation of energy equation as `-1/2 k xi^2 + 1/2 m vf^2 + 1/2 I ωf^2 = 0` [Source 2].\n",
      "\n",
      "A solid disk has `I = 1/2 m r^2`, which leads to `-1/2 k xi^2 + 1/2 m vf^2 + 1/2 (1/2 m r^2) ωf^2 = 0` [Source 2].\n",
      "\n",
      "Since the disk is rolling without slipping, we can also use the fact that `v^2 = ω^2 r^2` to simplify the final term, leading to `-1/2 k xi^2 + 1/2 m vf^2 + 1/2 (1/2 m r^2) (vf^2/r^2) = 0` [Source 2].\n",
      "\n",
      "Solving this equation for the final velocity `vf` will give us the speed at which the disk will roll on a flat surface after the spring is released. Note that you will need to convert the mass of the disk from grams to kilograms and the displacement from cm to m before performing the calculations.\n",
      "\n",
      "**References:**\n",
      "[Source 2]: Unit Unit 109 - Energy in Rotations – Unknown\n",
      "\n"
     ]
    }
   ],
   "source": [
    "response = generate_rag_response(\"Walk me through the following problem: A solid disk compresses a spring horizontally, with spring constant of 76 N/m, a displacement 0.56 cm from its equilibrium position. If the disk rolls without slipping after the spring is released, how fast will it roll on a flat surface? The mass of the disk is 19 g.\")\n",
    "\n",
    "print(response)"
   ]
  },
  {
   "cell_type": "code",
   "execution_count": null,
   "id": "5ee7a101-0fbd-4f18-b28d-faba08f67242",
   "metadata": {},
   "outputs": [],
   "source": []
  }
 ],
 "metadata": {
  "kernelspec": {
   "display_name": "Python 3 (ipykernel)",
   "language": "python",
   "name": "python3"
  },
  "language_info": {
   "codemirror_mode": {
    "name": "ipython",
    "version": 3
   },
   "file_extension": ".py",
   "mimetype": "text/x-python",
   "name": "python",
   "nbconvert_exporter": "python",
   "pygments_lexer": "ipython3",
   "version": "3.12.9"
  }
 },
 "nbformat": 4,
 "nbformat_minor": 5
}
